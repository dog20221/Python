{
 "cells": [
  {
   "cell_type": "markdown",
   "metadata": {
    "_cell_guid": "79c7e3d0-c299-4dcb-8224-4455121ee9b0",
    "_uuid": "d629ff2d2480ee46fbb7e2d37f6b5fab8052498a",
    "papermill": {
     "duration": 0.020874,
     "end_time": "2022-06-21T15:08:20.440617",
     "exception": false,
     "start_time": "2022-06-21T15:08:20.419743",
     "status": "completed"
    },
    "tags": []
   },
   "source": [
    "*Comparison of Netflix's subscriber and Netflix's revenue($) growth from Q1-2018 to Q2-2020 by region\n",
    "*\n",
    "##### Thank you for opening this kernel!\n",
    "Netflix has 182.8 million subscribers, making it one of the world’s largest entertainment services.\n",
    "\n",
    "# Aim:\n",
    "> In this report we are seeing how Netflix’s subscription figures and Netflix's revenue($) have grown in four different regions: \n",
    ">  1. the United States and Canada, \n",
    ">  2. Europe, the Middle East, and Africa,\n",
    ">  3. Latin America,\n",
    ">  4. Asia-Pacific \n",
    "> over the last 2.5 years.\n",
    "\n",
    "### Step one: Exploratory data analysis\n",
    "> Before starting, I would like to mention that my purpose of the report is how technology can positively affect Netflix subscribers and revenue growth. On the other hand, according to the final month of the quarter 2020(March) was being the start of the global coronavirus pandemic in many countries, Netflix noted that it added 26 million paid new subscribers in the first two quarters of 2020 alone; in 2019, the company added 28 million subscribers in total.\n",
    "### Step two: Visualization \n",
    "\n",
    "*Source of data: \n",
    "*\n",
    "\n",
    "[](http://)https://www.theverge.com/2020/7/16/21326434/netflix-second-quarter-earnings-tv-shows-movies-originals-subscribers-adds-ted-sarandos\n",
    "[](http://)https://www.comparitech.com/tv-streaming/netflix-subsc"
   ]
  },
  {
   "cell_type": "code",
   "execution_count": 1,
   "metadata": {
    "execution": {
     "iopub.execute_input": "2022-06-21T15:08:20.493556Z",
     "iopub.status.busy": "2022-06-21T15:08:20.492750Z",
     "iopub.status.idle": "2022-06-21T15:08:22.314423Z",
     "shell.execute_reply": "2022-06-21T15:08:22.312887Z"
    },
    "papermill": {
     "duration": 1.853566,
     "end_time": "2022-06-21T15:08:22.314597",
     "exception": false,
     "start_time": "2022-06-21T15:08:20.461031",
     "status": "completed"
    },
    "tags": []
   },
   "outputs": [
    {
     "name": "stdout",
     "output_type": "stream",
     "text": [
      "netflix2020\n",
      "\n"
     ]
    }
   ],
   "source": [
    "from subprocess import check_output\n",
    "print(check_output([\"ls\", \"../input\"]).decode(\"utf8\"))\n",
    "\n",
    "# Import the necessary packages\n",
    "import numpy as np\n",
    "import pandas as pd\n",
    "\n",
    "import warnings\n",
    "warnings.simplefilter(action =\"ignore\")\n",
    "\n",
    "# Data visualization\n",
    "import matplotlib.pyplot as plt\n",
    "import seaborn as sns\n",
    "from bokeh.io import output_file, show\n",
    "from bokeh.models import ColumnDataSource\n",
    "from bokeh.plotting import figure\n",
    "from bokeh.transform import dodge"
   ]
  },
  {
   "cell_type": "code",
   "execution_count": 2,
   "metadata": {
    "execution": {
     "iopub.execute_input": "2022-06-21T15:08:22.368099Z",
     "iopub.status.busy": "2022-06-21T15:08:22.366807Z",
     "iopub.status.idle": "2022-06-21T15:08:22.401428Z",
     "shell.execute_reply": "2022-06-21T15:08:22.402058Z"
    },
    "papermill": {
     "duration": 0.066341,
     "end_time": "2022-06-21T15:08:22.402264",
     "exception": false,
     "start_time": "2022-06-21T15:08:22.335923",
     "status": "completed"
    },
    "tags": []
   },
   "outputs": [],
   "source": [
    "# Load Dataset\n",
    "df_subscribers = pd.read_csv(\"../input/netflix2020/NetflixSubscribersbyCountryfrom2018toQ2_2020.csv\")\n",
    "\n",
    "df_revenue  = pd.read_csv(\"../input/netflix2020/NetflixsRevenue2018toQ2_2020.csv\")\n",
    "\n",
    "df_subscribers_V2 = pd.read_csv(\"../input/netflix2020/DataNetflixSubscriber2020_V2.csv\")\n",
    "\n",
    "df_revenue_V2 = pd.read_csv(\"../input/netflix2020/DataNetflixRevenue2020_V2.csv\")"
   ]
  },
  {
   "cell_type": "code",
   "execution_count": 3,
   "metadata": {
    "execution": {
     "iopub.execute_input": "2022-06-21T15:08:22.452398Z",
     "iopub.status.busy": "2022-06-21T15:08:22.451625Z",
     "iopub.status.idle": "2022-06-21T15:08:22.471041Z",
     "shell.execute_reply": "2022-06-21T15:08:22.470353Z"
    },
    "papermill": {
     "duration": 0.048451,
     "end_time": "2022-06-21T15:08:22.471188",
     "exception": false,
     "start_time": "2022-06-21T15:08:22.422737",
     "status": "completed"
    },
    "tags": []
   },
   "outputs": [
    {
     "data": {
      "text/html": [
       "<div>\n",
       "<style scoped>\n",
       "    .dataframe tbody tr th:only-of-type {\n",
       "        vertical-align: middle;\n",
       "    }\n",
       "\n",
       "    .dataframe tbody tr th {\n",
       "        vertical-align: top;\n",
       "    }\n",
       "\n",
       "    .dataframe thead th {\n",
       "        text-align: right;\n",
       "    }\n",
       "</style>\n",
       "<table border=\"1\" class=\"dataframe\">\n",
       "  <thead>\n",
       "    <tr style=\"text-align: right;\">\n",
       "      <th></th>\n",
       "      <th>Area</th>\n",
       "      <th>Q1 - 2018</th>\n",
       "      <th>Q2 - 2018</th>\n",
       "      <th>Q3 - 2018</th>\n",
       "      <th>Q4 - 2018</th>\n",
       "      <th>Q1 - 2019</th>\n",
       "      <th>Q2 - 2019</th>\n",
       "      <th>Q3 - 2019</th>\n",
       "      <th>Q4 - 2019</th>\n",
       "      <th>Q1 - 2020</th>\n",
       "      <th>Q2 - 2020</th>\n",
       "    </tr>\n",
       "  </thead>\n",
       "  <tbody>\n",
       "    <tr>\n",
       "      <th>0</th>\n",
       "      <td>United States and Canada</td>\n",
       "      <td>60909000</td>\n",
       "      <td>61870000</td>\n",
       "      <td>63010000</td>\n",
       "      <td>64757000</td>\n",
       "      <td>66633000</td>\n",
       "      <td>66501000</td>\n",
       "      <td>67114000</td>\n",
       "      <td>67662000</td>\n",
       "      <td>69969000</td>\n",
       "      <td>72904000</td>\n",
       "    </tr>\n",
       "    <tr>\n",
       "      <th>1</th>\n",
       "      <td>Europe, Middle East, and Africa</td>\n",
       "      <td>29339000</td>\n",
       "      <td>31317000</td>\n",
       "      <td>33836000</td>\n",
       "      <td>37818000</td>\n",
       "      <td>42542000</td>\n",
       "      <td>44229000</td>\n",
       "      <td>47355000</td>\n",
       "      <td>51778000</td>\n",
       "      <td>58734000</td>\n",
       "      <td>61483000</td>\n",
       "    </tr>\n",
       "    <tr>\n",
       "      <th>2</th>\n",
       "      <td>Latin America</td>\n",
       "      <td>21260000</td>\n",
       "      <td>22795000</td>\n",
       "      <td>24115000</td>\n",
       "      <td>26077000</td>\n",
       "      <td>27547000</td>\n",
       "      <td>27890000</td>\n",
       "      <td>29380000</td>\n",
       "      <td>31417000</td>\n",
       "      <td>34318000</td>\n",
       "      <td>36068000</td>\n",
       "    </tr>\n",
       "    <tr>\n",
       "      <th>3</th>\n",
       "      <td>Asia-Pacific</td>\n",
       "      <td>7394000</td>\n",
       "      <td>8372000</td>\n",
       "      <td>9461000</td>\n",
       "      <td>10607000</td>\n",
       "      <td>12141000</td>\n",
       "      <td>12942000</td>\n",
       "      <td>14485000</td>\n",
       "      <td>16233000</td>\n",
       "      <td>19835000</td>\n",
       "      <td>22492000</td>\n",
       "    </tr>\n",
       "  </tbody>\n",
       "</table>\n",
       "</div>"
      ],
      "text/plain": [
       "                              Area  Q1 - 2018  Q2 - 2018  Q3 - 2018  \\\n",
       "0         United States and Canada   60909000   61870000   63010000   \n",
       "1  Europe, Middle East, and Africa   29339000   31317000   33836000   \n",
       "2                    Latin America   21260000   22795000   24115000   \n",
       "3                     Asia-Pacific    7394000    8372000    9461000   \n",
       "\n",
       "   Q4 - 2018  Q1 - 2019  Q2 - 2019  Q3 - 2019  Q4 - 2019  Q1 - 2020  Q2 - 2020  \n",
       "0   64757000   66633000   66501000   67114000   67662000   69969000   72904000  \n",
       "1   37818000   42542000   44229000   47355000   51778000   58734000   61483000  \n",
       "2   26077000   27547000   27890000   29380000   31417000   34318000   36068000  \n",
       "3   10607000   12141000   12942000   14485000   16233000   19835000   22492000  "
      ]
     },
     "execution_count": 3,
     "metadata": {},
     "output_type": "execute_result"
    }
   ],
   "source": [
    "df_subscribers.head()"
   ]
  },
  {
   "cell_type": "code",
   "execution_count": 4,
   "metadata": {
    "execution": {
     "iopub.execute_input": "2022-06-21T15:08:22.529724Z",
     "iopub.status.busy": "2022-06-21T15:08:22.528940Z",
     "iopub.status.idle": "2022-06-21T15:08:22.533481Z",
     "shell.execute_reply": "2022-06-21T15:08:22.532836Z"
    },
    "papermill": {
     "duration": 0.040001,
     "end_time": "2022-06-21T15:08:22.533626",
     "exception": false,
     "start_time": "2022-06-21T15:08:22.493625",
     "status": "completed"
    },
    "tags": []
   },
   "outputs": [
    {
     "data": {
      "text/html": [
       "<div>\n",
       "<style scoped>\n",
       "    .dataframe tbody tr th:only-of-type {\n",
       "        vertical-align: middle;\n",
       "    }\n",
       "\n",
       "    .dataframe tbody tr th {\n",
       "        vertical-align: top;\n",
       "    }\n",
       "\n",
       "    .dataframe thead th {\n",
       "        text-align: right;\n",
       "    }\n",
       "</style>\n",
       "<table border=\"1\" class=\"dataframe\">\n",
       "  <thead>\n",
       "    <tr style=\"text-align: right;\">\n",
       "      <th></th>\n",
       "      <th>Area</th>\n",
       "      <th>Q1 - 2018</th>\n",
       "      <th>Q2 - 2018</th>\n",
       "      <th>Q3 - 2018</th>\n",
       "      <th>Q4 - 2018</th>\n",
       "      <th>Q1 - 2019</th>\n",
       "      <th>Q2 - 2019</th>\n",
       "      <th>Q3 - 2019</th>\n",
       "      <th>Q4 - 2019</th>\n",
       "      <th>Q1 - 2020</th>\n",
       "      <th>Q2 - 2020</th>\n",
       "    </tr>\n",
       "  </thead>\n",
       "  <tbody>\n",
       "    <tr>\n",
       "      <th>0</th>\n",
       "      <td>United States and Canada</td>\n",
       "      <td>1976157000</td>\n",
       "      <td>2049546000</td>\n",
       "      <td>2094850000</td>\n",
       "      <td>2160979000</td>\n",
       "      <td>2256851000</td>\n",
       "      <td>2501199000</td>\n",
       "      <td>2621250000</td>\n",
       "      <td>2671908000</td>\n",
       "      <td>2702776000</td>\n",
       "      <td>2839670000</td>\n",
       "    </tr>\n",
       "    <tr>\n",
       "      <th>1</th>\n",
       "      <td>Europe, Middle East, and Africa</td>\n",
       "      <td>886649000</td>\n",
       "      <td>975497000</td>\n",
       "      <td>1004749000</td>\n",
       "      <td>1096812000</td>\n",
       "      <td>1233379000</td>\n",
       "      <td>1319087000</td>\n",
       "      <td>1428040000</td>\n",
       "      <td>1562561000</td>\n",
       "      <td>1723474000</td>\n",
       "      <td>1892537000</td>\n",
       "    </tr>\n",
       "    <tr>\n",
       "      <th>2</th>\n",
       "      <td>Latin America</td>\n",
       "      <td>540182000</td>\n",
       "      <td>568071000</td>\n",
       "      <td>562307000</td>\n",
       "      <td>567137000</td>\n",
       "      <td>630472000</td>\n",
       "      <td>677136000</td>\n",
       "      <td>741434000</td>\n",
       "      <td>746392000</td>\n",
       "      <td>793453000</td>\n",
       "      <td>785368000</td>\n",
       "    </tr>\n",
       "    <tr>\n",
       "      <th>3</th>\n",
       "      <td>Asia-Pacific</td>\n",
       "      <td>199117000</td>\n",
       "      <td>221252000</td>\n",
       "      <td>248691000</td>\n",
       "      <td>276756000</td>\n",
       "      <td>319602000</td>\n",
       "      <td>349494000</td>\n",
       "      <td>382304000</td>\n",
       "      <td>418121000</td>\n",
       "      <td>483660000</td>\n",
       "      <td>569140000</td>\n",
       "    </tr>\n",
       "  </tbody>\n",
       "</table>\n",
       "</div>"
      ],
      "text/plain": [
       "                              Area   Q1 - 2018   Q2 - 2018   Q3 - 2018  \\\n",
       "0         United States and Canada  1976157000  2049546000  2094850000   \n",
       "1  Europe, Middle East, and Africa   886649000   975497000  1004749000   \n",
       "2                    Latin America   540182000   568071000   562307000   \n",
       "3                     Asia-Pacific   199117000   221252000   248691000   \n",
       "\n",
       "    Q4 - 2018   Q1 - 2019   Q2 - 2019   Q3 - 2019   Q4 - 2019   Q1 - 2020  \\\n",
       "0  2160979000  2256851000  2501199000  2621250000  2671908000  2702776000   \n",
       "1  1096812000  1233379000  1319087000  1428040000  1562561000  1723474000   \n",
       "2   567137000   630472000   677136000   741434000   746392000   793453000   \n",
       "3   276756000   319602000   349494000   382304000   418121000   483660000   \n",
       "\n",
       "    Q2 - 2020  \n",
       "0  2839670000  \n",
       "1  1892537000  \n",
       "2   785368000  \n",
       "3   569140000  "
      ]
     },
     "execution_count": 4,
     "metadata": {},
     "output_type": "execute_result"
    }
   ],
   "source": [
    "df_revenue.head()"
   ]
  },
  {
   "cell_type": "code",
   "execution_count": 5,
   "metadata": {
    "execution": {
     "iopub.execute_input": "2022-06-21T15:08:22.587875Z",
     "iopub.status.busy": "2022-06-21T15:08:22.586874Z",
     "iopub.status.idle": "2022-06-21T15:08:22.592010Z",
     "shell.execute_reply": "2022-06-21T15:08:22.591403Z"
    },
    "papermill": {
     "duration": 0.037243,
     "end_time": "2022-06-21T15:08:22.592147",
     "exception": false,
     "start_time": "2022-06-21T15:08:22.554904",
     "status": "completed"
    },
    "tags": []
   },
   "outputs": [
    {
     "data": {
      "text/html": [
       "<div>\n",
       "<style scoped>\n",
       "    .dataframe tbody tr th:only-of-type {\n",
       "        vertical-align: middle;\n",
       "    }\n",
       "\n",
       "    .dataframe tbody tr th {\n",
       "        vertical-align: top;\n",
       "    }\n",
       "\n",
       "    .dataframe thead th {\n",
       "        text-align: right;\n",
       "    }\n",
       "</style>\n",
       "<table border=\"1\" class=\"dataframe\">\n",
       "  <thead>\n",
       "    <tr style=\"text-align: right;\">\n",
       "      <th></th>\n",
       "      <th>Area</th>\n",
       "      <th>Years</th>\n",
       "      <th>Subscribers</th>\n",
       "    </tr>\n",
       "  </thead>\n",
       "  <tbody>\n",
       "    <tr>\n",
       "      <th>0</th>\n",
       "      <td>United States and Canada</td>\n",
       "      <td>Q1 - 2018</td>\n",
       "      <td>60909000</td>\n",
       "    </tr>\n",
       "    <tr>\n",
       "      <th>1</th>\n",
       "      <td>Europe,  Middle East and Africa</td>\n",
       "      <td>Q1 - 2018</td>\n",
       "      <td>29339000</td>\n",
       "    </tr>\n",
       "    <tr>\n",
       "      <th>2</th>\n",
       "      <td>Latin America</td>\n",
       "      <td>Q1 - 2018</td>\n",
       "      <td>21260000</td>\n",
       "    </tr>\n",
       "    <tr>\n",
       "      <th>3</th>\n",
       "      <td>Asia-Pacific</td>\n",
       "      <td>Q1 - 2018</td>\n",
       "      <td>7394000</td>\n",
       "    </tr>\n",
       "    <tr>\n",
       "      <th>4</th>\n",
       "      <td>United States and Canada</td>\n",
       "      <td>Q2 - 2018</td>\n",
       "      <td>61870000</td>\n",
       "    </tr>\n",
       "  </tbody>\n",
       "</table>\n",
       "</div>"
      ],
      "text/plain": [
       "                              Area      Years  Subscribers\n",
       "0         United States and Canada  Q1 - 2018     60909000\n",
       "1  Europe,  Middle East and Africa  Q1 - 2018     29339000\n",
       "2                    Latin America  Q1 - 2018     21260000\n",
       "3                     Asia-Pacific  Q1 - 2018      7394000\n",
       "4         United States and Canada  Q2 - 2018     61870000"
      ]
     },
     "execution_count": 5,
     "metadata": {},
     "output_type": "execute_result"
    }
   ],
   "source": [
    "df_subscribers_V2.head()"
   ]
  },
  {
   "cell_type": "code",
   "execution_count": 6,
   "metadata": {
    "execution": {
     "iopub.execute_input": "2022-06-21T15:08:22.641490Z",
     "iopub.status.busy": "2022-06-21T15:08:22.640728Z",
     "iopub.status.idle": "2022-06-21T15:08:22.651045Z",
     "shell.execute_reply": "2022-06-21T15:08:22.651624Z"
    },
    "papermill": {
     "duration": 0.03669,
     "end_time": "2022-06-21T15:08:22.651801",
     "exception": false,
     "start_time": "2022-06-21T15:08:22.615111",
     "status": "completed"
    },
    "tags": []
   },
   "outputs": [
    {
     "data": {
      "text/html": [
       "<div>\n",
       "<style scoped>\n",
       "    .dataframe tbody tr th:only-of-type {\n",
       "        vertical-align: middle;\n",
       "    }\n",
       "\n",
       "    .dataframe tbody tr th {\n",
       "        vertical-align: top;\n",
       "    }\n",
       "\n",
       "    .dataframe thead th {\n",
       "        text-align: right;\n",
       "    }\n",
       "</style>\n",
       "<table border=\"1\" class=\"dataframe\">\n",
       "  <thead>\n",
       "    <tr style=\"text-align: right;\">\n",
       "      <th></th>\n",
       "      <th>Area</th>\n",
       "      <th>Years</th>\n",
       "      <th>Revenue</th>\n",
       "    </tr>\n",
       "  </thead>\n",
       "  <tbody>\n",
       "    <tr>\n",
       "      <th>0</th>\n",
       "      <td>United States and Canada</td>\n",
       "      <td>Q1 - 2018</td>\n",
       "      <td>1976157000</td>\n",
       "    </tr>\n",
       "    <tr>\n",
       "      <th>1</th>\n",
       "      <td>Europe,  Middle East and Africa</td>\n",
       "      <td>Q1 - 2018</td>\n",
       "      <td>886649000</td>\n",
       "    </tr>\n",
       "    <tr>\n",
       "      <th>2</th>\n",
       "      <td>Latin America</td>\n",
       "      <td>Q1 - 2018</td>\n",
       "      <td>540182000</td>\n",
       "    </tr>\n",
       "    <tr>\n",
       "      <th>3</th>\n",
       "      <td>Asia-Pacific</td>\n",
       "      <td>Q1 - 2018</td>\n",
       "      <td>199117000</td>\n",
       "    </tr>\n",
       "    <tr>\n",
       "      <th>4</th>\n",
       "      <td>United States and Canada</td>\n",
       "      <td>Q2 - 2018</td>\n",
       "      <td>2049546000</td>\n",
       "    </tr>\n",
       "  </tbody>\n",
       "</table>\n",
       "</div>"
      ],
      "text/plain": [
       "                              Area      Years     Revenue\n",
       "0         United States and Canada  Q1 - 2018  1976157000\n",
       "1  Europe,  Middle East and Africa  Q1 - 2018   886649000\n",
       "2                    Latin America  Q1 - 2018   540182000\n",
       "3                     Asia-Pacific  Q1 - 2018   199117000\n",
       "4         United States and Canada  Q2 - 2018  2049546000"
      ]
     },
     "execution_count": 6,
     "metadata": {},
     "output_type": "execute_result"
    }
   ],
   "source": [
    "df_revenue_V2.head()"
   ]
  },
  {
   "cell_type": "markdown",
   "metadata": {
    "papermill": {
     "duration": 0.021802,
     "end_time": "2022-06-21T15:08:22.696231",
     "exception": false,
     "start_time": "2022-06-21T15:08:22.674429",
     "status": "completed"
    },
    "tags": []
   },
   "source": [
    "#### Analyse statically insight of data"
   ]
  },
  {
   "cell_type": "code",
   "execution_count": 7,
   "metadata": {
    "execution": {
     "iopub.execute_input": "2022-06-21T15:08:22.745495Z",
     "iopub.status.busy": "2022-06-21T15:08:22.744759Z",
     "iopub.status.idle": "2022-06-21T15:08:22.795046Z",
     "shell.execute_reply": "2022-06-21T15:08:22.794390Z"
    },
    "papermill": {
     "duration": 0.076689,
     "end_time": "2022-06-21T15:08:22.795189",
     "exception": false,
     "start_time": "2022-06-21T15:08:22.718500",
     "status": "completed"
    },
    "tags": []
   },
   "outputs": [
    {
     "data": {
      "text/html": [
       "<div>\n",
       "<style scoped>\n",
       "    .dataframe tbody tr th:only-of-type {\n",
       "        vertical-align: middle;\n",
       "    }\n",
       "\n",
       "    .dataframe tbody tr th {\n",
       "        vertical-align: top;\n",
       "    }\n",
       "\n",
       "    .dataframe thead th {\n",
       "        text-align: right;\n",
       "    }\n",
       "</style>\n",
       "<table border=\"1\" class=\"dataframe\">\n",
       "  <thead>\n",
       "    <tr style=\"text-align: right;\">\n",
       "      <th></th>\n",
       "      <th>Q1 - 2018</th>\n",
       "      <th>Q2 - 2018</th>\n",
       "      <th>Q3 - 2018</th>\n",
       "      <th>Q4 - 2018</th>\n",
       "      <th>Q1 - 2019</th>\n",
       "      <th>Q2 - 2019</th>\n",
       "      <th>Q3 - 2019</th>\n",
       "      <th>Q4 - 2019</th>\n",
       "      <th>Q1 - 2020</th>\n",
       "      <th>Q2 - 2020</th>\n",
       "    </tr>\n",
       "  </thead>\n",
       "  <tbody>\n",
       "    <tr>\n",
       "      <th>count</th>\n",
       "      <td>4.000000e+00</td>\n",
       "      <td>4.000000e+00</td>\n",
       "      <td>4.000000e+00</td>\n",
       "      <td>4.000000e+00</td>\n",
       "      <td>4.000000e+00</td>\n",
       "      <td>4.000000e+00</td>\n",
       "      <td>4.000000e+00</td>\n",
       "      <td>4.000000e+00</td>\n",
       "      <td>4.000000e+00</td>\n",
       "      <td>4.000000e+00</td>\n",
       "    </tr>\n",
       "    <tr>\n",
       "      <th>mean</th>\n",
       "      <td>2.972550e+07</td>\n",
       "      <td>3.108850e+07</td>\n",
       "      <td>3.260550e+07</td>\n",
       "      <td>3.481475e+07</td>\n",
       "      <td>3.721575e+07</td>\n",
       "      <td>3.789050e+07</td>\n",
       "      <td>3.958350e+07</td>\n",
       "      <td>4.177250e+07</td>\n",
       "      <td>4.571400e+07</td>\n",
       "      <td>4.823675e+07</td>\n",
       "    </tr>\n",
       "    <tr>\n",
       "      <th>std</th>\n",
       "      <td>2.267834e+07</td>\n",
       "      <td>2.260070e+07</td>\n",
       "      <td>2.261050e+07</td>\n",
       "      <td>2.286133e+07</td>\n",
       "      <td>2.320899e+07</td>\n",
       "      <td>2.295775e+07</td>\n",
       "      <td>2.274768e+07</td>\n",
       "      <td>2.258228e+07</td>\n",
       "      <td>2.278462e+07</td>\n",
       "      <td>2.305650e+07</td>\n",
       "    </tr>\n",
       "    <tr>\n",
       "      <th>min</th>\n",
       "      <td>7.394000e+06</td>\n",
       "      <td>8.372000e+06</td>\n",
       "      <td>9.461000e+06</td>\n",
       "      <td>1.060700e+07</td>\n",
       "      <td>1.214100e+07</td>\n",
       "      <td>1.294200e+07</td>\n",
       "      <td>1.448500e+07</td>\n",
       "      <td>1.623300e+07</td>\n",
       "      <td>1.983500e+07</td>\n",
       "      <td>2.249200e+07</td>\n",
       "    </tr>\n",
       "    <tr>\n",
       "      <th>25%</th>\n",
       "      <td>1.779350e+07</td>\n",
       "      <td>1.918925e+07</td>\n",
       "      <td>2.045150e+07</td>\n",
       "      <td>2.220950e+07</td>\n",
       "      <td>2.369550e+07</td>\n",
       "      <td>2.415300e+07</td>\n",
       "      <td>2.565625e+07</td>\n",
       "      <td>2.762100e+07</td>\n",
       "      <td>3.069725e+07</td>\n",
       "      <td>3.267400e+07</td>\n",
       "    </tr>\n",
       "    <tr>\n",
       "      <th>50%</th>\n",
       "      <td>2.529950e+07</td>\n",
       "      <td>2.705600e+07</td>\n",
       "      <td>2.897550e+07</td>\n",
       "      <td>3.194750e+07</td>\n",
       "      <td>3.504450e+07</td>\n",
       "      <td>3.605950e+07</td>\n",
       "      <td>3.836750e+07</td>\n",
       "      <td>4.159750e+07</td>\n",
       "      <td>4.652600e+07</td>\n",
       "      <td>4.877550e+07</td>\n",
       "    </tr>\n",
       "    <tr>\n",
       "      <th>75%</th>\n",
       "      <td>3.723150e+07</td>\n",
       "      <td>3.895525e+07</td>\n",
       "      <td>4.112950e+07</td>\n",
       "      <td>4.455275e+07</td>\n",
       "      <td>4.856475e+07</td>\n",
       "      <td>4.979700e+07</td>\n",
       "      <td>5.229475e+07</td>\n",
       "      <td>5.574900e+07</td>\n",
       "      <td>6.154275e+07</td>\n",
       "      <td>6.433825e+07</td>\n",
       "    </tr>\n",
       "    <tr>\n",
       "      <th>max</th>\n",
       "      <td>6.090900e+07</td>\n",
       "      <td>6.187000e+07</td>\n",
       "      <td>6.301000e+07</td>\n",
       "      <td>6.475700e+07</td>\n",
       "      <td>6.663300e+07</td>\n",
       "      <td>6.650100e+07</td>\n",
       "      <td>6.711400e+07</td>\n",
       "      <td>6.766200e+07</td>\n",
       "      <td>6.996900e+07</td>\n",
       "      <td>7.290400e+07</td>\n",
       "    </tr>\n",
       "  </tbody>\n",
       "</table>\n",
       "</div>"
      ],
      "text/plain": [
       "          Q1 - 2018     Q2 - 2018     Q3 - 2018     Q4 - 2018     Q1 - 2019  \\\n",
       "count  4.000000e+00  4.000000e+00  4.000000e+00  4.000000e+00  4.000000e+00   \n",
       "mean   2.972550e+07  3.108850e+07  3.260550e+07  3.481475e+07  3.721575e+07   \n",
       "std    2.267834e+07  2.260070e+07  2.261050e+07  2.286133e+07  2.320899e+07   \n",
       "min    7.394000e+06  8.372000e+06  9.461000e+06  1.060700e+07  1.214100e+07   \n",
       "25%    1.779350e+07  1.918925e+07  2.045150e+07  2.220950e+07  2.369550e+07   \n",
       "50%    2.529950e+07  2.705600e+07  2.897550e+07  3.194750e+07  3.504450e+07   \n",
       "75%    3.723150e+07  3.895525e+07  4.112950e+07  4.455275e+07  4.856475e+07   \n",
       "max    6.090900e+07  6.187000e+07  6.301000e+07  6.475700e+07  6.663300e+07   \n",
       "\n",
       "          Q2 - 2019     Q3 - 2019     Q4 - 2019     Q1 - 2020     Q2 - 2020  \n",
       "count  4.000000e+00  4.000000e+00  4.000000e+00  4.000000e+00  4.000000e+00  \n",
       "mean   3.789050e+07  3.958350e+07  4.177250e+07  4.571400e+07  4.823675e+07  \n",
       "std    2.295775e+07  2.274768e+07  2.258228e+07  2.278462e+07  2.305650e+07  \n",
       "min    1.294200e+07  1.448500e+07  1.623300e+07  1.983500e+07  2.249200e+07  \n",
       "25%    2.415300e+07  2.565625e+07  2.762100e+07  3.069725e+07  3.267400e+07  \n",
       "50%    3.605950e+07  3.836750e+07  4.159750e+07  4.652600e+07  4.877550e+07  \n",
       "75%    4.979700e+07  5.229475e+07  5.574900e+07  6.154275e+07  6.433825e+07  \n",
       "max    6.650100e+07  6.711400e+07  6.766200e+07  6.996900e+07  7.290400e+07  "
      ]
     },
     "execution_count": 7,
     "metadata": {},
     "output_type": "execute_result"
    }
   ],
   "source": [
    "df_subscribers.describe()"
   ]
  },
  {
   "cell_type": "code",
   "execution_count": 8,
   "metadata": {
    "execution": {
     "iopub.execute_input": "2022-06-21T15:08:22.851817Z",
     "iopub.status.busy": "2022-06-21T15:08:22.850689Z",
     "iopub.status.idle": "2022-06-21T15:08:22.890268Z",
     "shell.execute_reply": "2022-06-21T15:08:22.890928Z"
    },
    "papermill": {
     "duration": 0.07213,
     "end_time": "2022-06-21T15:08:22.891105",
     "exception": false,
     "start_time": "2022-06-21T15:08:22.818975",
     "status": "completed"
    },
    "tags": []
   },
   "outputs": [
    {
     "data": {
      "text/html": [
       "<div>\n",
       "<style scoped>\n",
       "    .dataframe tbody tr th:only-of-type {\n",
       "        vertical-align: middle;\n",
       "    }\n",
       "\n",
       "    .dataframe tbody tr th {\n",
       "        vertical-align: top;\n",
       "    }\n",
       "\n",
       "    .dataframe thead th {\n",
       "        text-align: right;\n",
       "    }\n",
       "</style>\n",
       "<table border=\"1\" class=\"dataframe\">\n",
       "  <thead>\n",
       "    <tr style=\"text-align: right;\">\n",
       "      <th></th>\n",
       "      <th>Q1 - 2018</th>\n",
       "      <th>Q2 - 2018</th>\n",
       "      <th>Q3 - 2018</th>\n",
       "      <th>Q4 - 2018</th>\n",
       "      <th>Q1 - 2019</th>\n",
       "      <th>Q2 - 2019</th>\n",
       "      <th>Q3 - 2019</th>\n",
       "      <th>Q4 - 2019</th>\n",
       "      <th>Q1 - 2020</th>\n",
       "      <th>Q2 - 2020</th>\n",
       "    </tr>\n",
       "  </thead>\n",
       "  <tbody>\n",
       "    <tr>\n",
       "      <th>count</th>\n",
       "      <td>4.000000e+00</td>\n",
       "      <td>4.000000e+00</td>\n",
       "      <td>4.000000e+00</td>\n",
       "      <td>4.000000e+00</td>\n",
       "      <td>4.000000e+00</td>\n",
       "      <td>4.000000e+00</td>\n",
       "      <td>4.000000e+00</td>\n",
       "      <td>4.000000e+00</td>\n",
       "      <td>4.000000e+00</td>\n",
       "      <td>4.000000e+00</td>\n",
       "    </tr>\n",
       "    <tr>\n",
       "      <th>mean</th>\n",
       "      <td>9.005262e+08</td>\n",
       "      <td>9.535915e+08</td>\n",
       "      <td>9.776492e+08</td>\n",
       "      <td>1.025421e+09</td>\n",
       "      <td>1.110076e+09</td>\n",
       "      <td>1.211729e+09</td>\n",
       "      <td>1.293257e+09</td>\n",
       "      <td>1.349746e+09</td>\n",
       "      <td>1.425841e+09</td>\n",
       "      <td>1.521679e+09</td>\n",
       "    </tr>\n",
       "    <tr>\n",
       "      <th>std</th>\n",
       "      <td>7.700643e+08</td>\n",
       "      <td>7.929992e+08</td>\n",
       "      <td>8.067964e+08</td>\n",
       "      <td>8.296811e+08</td>\n",
       "      <td>8.534568e+08</td>\n",
       "      <td>9.492975e+08</td>\n",
       "      <td>9.859134e+08</td>\n",
       "      <td>1.004218e+09</td>\n",
       "      <td>1.001127e+09</td>\n",
       "      <td>1.052635e+09</td>\n",
       "    </tr>\n",
       "    <tr>\n",
       "      <th>min</th>\n",
       "      <td>1.991170e+08</td>\n",
       "      <td>2.212520e+08</td>\n",
       "      <td>2.486910e+08</td>\n",
       "      <td>2.767560e+08</td>\n",
       "      <td>3.196020e+08</td>\n",
       "      <td>3.494940e+08</td>\n",
       "      <td>3.823040e+08</td>\n",
       "      <td>4.181210e+08</td>\n",
       "      <td>4.836600e+08</td>\n",
       "      <td>5.691400e+08</td>\n",
       "    </tr>\n",
       "    <tr>\n",
       "      <th>25%</th>\n",
       "      <td>4.549158e+08</td>\n",
       "      <td>4.813662e+08</td>\n",
       "      <td>4.839030e+08</td>\n",
       "      <td>4.945418e+08</td>\n",
       "      <td>5.527545e+08</td>\n",
       "      <td>5.952255e+08</td>\n",
       "      <td>6.516515e+08</td>\n",
       "      <td>6.643242e+08</td>\n",
       "      <td>7.160048e+08</td>\n",
       "      <td>7.313110e+08</td>\n",
       "    </tr>\n",
       "    <tr>\n",
       "      <th>50%</th>\n",
       "      <td>7.134155e+08</td>\n",
       "      <td>7.717840e+08</td>\n",
       "      <td>7.835280e+08</td>\n",
       "      <td>8.319745e+08</td>\n",
       "      <td>9.319255e+08</td>\n",
       "      <td>9.981115e+08</td>\n",
       "      <td>1.084737e+09</td>\n",
       "      <td>1.154476e+09</td>\n",
       "      <td>1.258464e+09</td>\n",
       "      <td>1.338952e+09</td>\n",
       "    </tr>\n",
       "    <tr>\n",
       "      <th>75%</th>\n",
       "      <td>1.159026e+09</td>\n",
       "      <td>1.244009e+09</td>\n",
       "      <td>1.277274e+09</td>\n",
       "      <td>1.362854e+09</td>\n",
       "      <td>1.489247e+09</td>\n",
       "      <td>1.614615e+09</td>\n",
       "      <td>1.726342e+09</td>\n",
       "      <td>1.839898e+09</td>\n",
       "      <td>1.968300e+09</td>\n",
       "      <td>2.129320e+09</td>\n",
       "    </tr>\n",
       "    <tr>\n",
       "      <th>max</th>\n",
       "      <td>1.976157e+09</td>\n",
       "      <td>2.049546e+09</td>\n",
       "      <td>2.094850e+09</td>\n",
       "      <td>2.160979e+09</td>\n",
       "      <td>2.256851e+09</td>\n",
       "      <td>2.501199e+09</td>\n",
       "      <td>2.621250e+09</td>\n",
       "      <td>2.671908e+09</td>\n",
       "      <td>2.702776e+09</td>\n",
       "      <td>2.839670e+09</td>\n",
       "    </tr>\n",
       "  </tbody>\n",
       "</table>\n",
       "</div>"
      ],
      "text/plain": [
       "          Q1 - 2018     Q2 - 2018     Q3 - 2018     Q4 - 2018     Q1 - 2019  \\\n",
       "count  4.000000e+00  4.000000e+00  4.000000e+00  4.000000e+00  4.000000e+00   \n",
       "mean   9.005262e+08  9.535915e+08  9.776492e+08  1.025421e+09  1.110076e+09   \n",
       "std    7.700643e+08  7.929992e+08  8.067964e+08  8.296811e+08  8.534568e+08   \n",
       "min    1.991170e+08  2.212520e+08  2.486910e+08  2.767560e+08  3.196020e+08   \n",
       "25%    4.549158e+08  4.813662e+08  4.839030e+08  4.945418e+08  5.527545e+08   \n",
       "50%    7.134155e+08  7.717840e+08  7.835280e+08  8.319745e+08  9.319255e+08   \n",
       "75%    1.159026e+09  1.244009e+09  1.277274e+09  1.362854e+09  1.489247e+09   \n",
       "max    1.976157e+09  2.049546e+09  2.094850e+09  2.160979e+09  2.256851e+09   \n",
       "\n",
       "          Q2 - 2019     Q3 - 2019     Q4 - 2019     Q1 - 2020     Q2 - 2020  \n",
       "count  4.000000e+00  4.000000e+00  4.000000e+00  4.000000e+00  4.000000e+00  \n",
       "mean   1.211729e+09  1.293257e+09  1.349746e+09  1.425841e+09  1.521679e+09  \n",
       "std    9.492975e+08  9.859134e+08  1.004218e+09  1.001127e+09  1.052635e+09  \n",
       "min    3.494940e+08  3.823040e+08  4.181210e+08  4.836600e+08  5.691400e+08  \n",
       "25%    5.952255e+08  6.516515e+08  6.643242e+08  7.160048e+08  7.313110e+08  \n",
       "50%    9.981115e+08  1.084737e+09  1.154476e+09  1.258464e+09  1.338952e+09  \n",
       "75%    1.614615e+09  1.726342e+09  1.839898e+09  1.968300e+09  2.129320e+09  \n",
       "max    2.501199e+09  2.621250e+09  2.671908e+09  2.702776e+09  2.839670e+09  "
      ]
     },
     "execution_count": 8,
     "metadata": {},
     "output_type": "execute_result"
    }
   ],
   "source": [
    "df_revenue.describe()"
   ]
  },
  {
   "cell_type": "code",
   "execution_count": 9,
   "metadata": {
    "execution": {
     "iopub.execute_input": "2022-06-21T15:08:22.944209Z",
     "iopub.status.busy": "2022-06-21T15:08:22.943095Z",
     "iopub.status.idle": "2022-06-21T15:08:22.958367Z",
     "shell.execute_reply": "2022-06-21T15:08:22.958938Z"
    },
    "papermill": {
     "duration": 0.043725,
     "end_time": "2022-06-21T15:08:22.959107",
     "exception": false,
     "start_time": "2022-06-21T15:08:22.915382",
     "status": "completed"
    },
    "tags": []
   },
   "outputs": [
    {
     "data": {
      "text/html": [
       "<div>\n",
       "<style scoped>\n",
       "    .dataframe tbody tr th:only-of-type {\n",
       "        vertical-align: middle;\n",
       "    }\n",
       "\n",
       "    .dataframe tbody tr th {\n",
       "        vertical-align: top;\n",
       "    }\n",
       "\n",
       "    .dataframe thead th {\n",
       "        text-align: right;\n",
       "    }\n",
       "</style>\n",
       "<table border=\"1\" class=\"dataframe\">\n",
       "  <thead>\n",
       "    <tr style=\"text-align: right;\">\n",
       "      <th></th>\n",
       "      <th>Subscribers</th>\n",
       "    </tr>\n",
       "  </thead>\n",
       "  <tbody>\n",
       "    <tr>\n",
       "      <th>count</th>\n",
       "      <td>4.000000e+01</td>\n",
       "    </tr>\n",
       "    <tr>\n",
       "      <th>mean</th>\n",
       "      <td>3.786472e+07</td>\n",
       "    </tr>\n",
       "    <tr>\n",
       "      <th>std</th>\n",
       "      <td>2.085136e+07</td>\n",
       "    </tr>\n",
       "    <tr>\n",
       "      <th>min</th>\n",
       "      <td>7.394000e+06</td>\n",
       "    </tr>\n",
       "    <tr>\n",
       "      <th>25%</th>\n",
       "      <td>2.218400e+07</td>\n",
       "    </tr>\n",
       "    <tr>\n",
       "      <th>50%</th>\n",
       "      <td>3.262650e+07</td>\n",
       "    </tr>\n",
       "    <tr>\n",
       "      <th>75%</th>\n",
       "      <td>6.105250e+07</td>\n",
       "    </tr>\n",
       "    <tr>\n",
       "      <th>max</th>\n",
       "      <td>7.290400e+07</td>\n",
       "    </tr>\n",
       "  </tbody>\n",
       "</table>\n",
       "</div>"
      ],
      "text/plain": [
       "        Subscribers\n",
       "count  4.000000e+01\n",
       "mean   3.786472e+07\n",
       "std    2.085136e+07\n",
       "min    7.394000e+06\n",
       "25%    2.218400e+07\n",
       "50%    3.262650e+07\n",
       "75%    6.105250e+07\n",
       "max    7.290400e+07"
      ]
     },
     "execution_count": 9,
     "metadata": {},
     "output_type": "execute_result"
    }
   ],
   "source": [
    "df_subscribers_V2.describe()"
   ]
  },
  {
   "cell_type": "code",
   "execution_count": 10,
   "metadata": {
    "execution": {
     "iopub.execute_input": "2022-06-21T15:08:23.012147Z",
     "iopub.status.busy": "2022-06-21T15:08:23.011025Z",
     "iopub.status.idle": "2022-06-21T15:08:23.026808Z",
     "shell.execute_reply": "2022-06-21T15:08:23.027424Z"
    },
    "papermill": {
     "duration": 0.044284,
     "end_time": "2022-06-21T15:08:23.027606",
     "exception": false,
     "start_time": "2022-06-21T15:08:22.983322",
     "status": "completed"
    },
    "tags": []
   },
   "outputs": [
    {
     "data": {
      "text/html": [
       "<div>\n",
       "<style scoped>\n",
       "    .dataframe tbody tr th:only-of-type {\n",
       "        vertical-align: middle;\n",
       "    }\n",
       "\n",
       "    .dataframe tbody tr th {\n",
       "        vertical-align: top;\n",
       "    }\n",
       "\n",
       "    .dataframe thead th {\n",
       "        text-align: right;\n",
       "    }\n",
       "</style>\n",
       "<table border=\"1\" class=\"dataframe\">\n",
       "  <thead>\n",
       "    <tr style=\"text-align: right;\">\n",
       "      <th></th>\n",
       "      <th>Revenue</th>\n",
       "    </tr>\n",
       "  </thead>\n",
       "  <tbody>\n",
       "    <tr>\n",
       "      <th>count</th>\n",
       "      <td>4.000000e+01</td>\n",
       "    </tr>\n",
       "    <tr>\n",
       "      <th>mean</th>\n",
       "      <td>1.176952e+09</td>\n",
       "    </tr>\n",
       "    <tr>\n",
       "      <th>std</th>\n",
       "      <td>8.246170e+08</td>\n",
       "    </tr>\n",
       "    <tr>\n",
       "      <th>min</th>\n",
       "      <td>1.991170e+08</td>\n",
       "    </tr>\n",
       "    <tr>\n",
       "      <th>25%</th>\n",
       "      <td>5.567758e+08</td>\n",
       "    </tr>\n",
       "    <tr>\n",
       "      <th>50%</th>\n",
       "      <td>8.400510e+08</td>\n",
       "    </tr>\n",
       "    <tr>\n",
       "      <th>75%</th>\n",
       "      <td>1.913442e+09</td>\n",
       "    </tr>\n",
       "    <tr>\n",
       "      <th>max</th>\n",
       "      <td>2.839670e+09</td>\n",
       "    </tr>\n",
       "  </tbody>\n",
       "</table>\n",
       "</div>"
      ],
      "text/plain": [
       "            Revenue\n",
       "count  4.000000e+01\n",
       "mean   1.176952e+09\n",
       "std    8.246170e+08\n",
       "min    1.991170e+08\n",
       "25%    5.567758e+08\n",
       "50%    8.400510e+08\n",
       "75%    1.913442e+09\n",
       "max    2.839670e+09"
      ]
     },
     "execution_count": 10,
     "metadata": {},
     "output_type": "execute_result"
    }
   ],
   "source": [
    "df_revenue_V2.describe()"
   ]
  },
  {
   "cell_type": "code",
   "execution_count": 11,
   "metadata": {
    "execution": {
     "iopub.execute_input": "2022-06-21T15:08:23.081669Z",
     "iopub.status.busy": "2022-06-21T15:08:23.080597Z",
     "iopub.status.idle": "2022-06-21T15:08:23.097863Z",
     "shell.execute_reply": "2022-06-21T15:08:23.098548Z"
    },
    "papermill": {
     "duration": 0.046384,
     "end_time": "2022-06-21T15:08:23.098793",
     "exception": false,
     "start_time": "2022-06-21T15:08:23.052409",
     "status": "completed"
    },
    "tags": []
   },
   "outputs": [
    {
     "name": "stdout",
     "output_type": "stream",
     "text": [
      "<class 'pandas.core.frame.DataFrame'>\n",
      "RangeIndex: 4 entries, 0 to 3\n",
      "Data columns (total 11 columns):\n",
      " #   Column     Non-Null Count  Dtype \n",
      "---  ------     --------------  ----- \n",
      " 0   Area       4 non-null      object\n",
      " 1   Q1 - 2018  4 non-null      int64 \n",
      " 2   Q2 - 2018  4 non-null      int64 \n",
      " 3   Q3 - 2018  4 non-null      int64 \n",
      " 4   Q4 - 2018  4 non-null      int64 \n",
      " 5   Q1 - 2019  4 non-null      int64 \n",
      " 6   Q2 - 2019  4 non-null      int64 \n",
      " 7   Q3 - 2019  4 non-null      int64 \n",
      " 8   Q4 - 2019  4 non-null      int64 \n",
      " 9   Q1 - 2020  4 non-null      int64 \n",
      " 10  Q2 - 2020  4 non-null      int64 \n",
      "dtypes: int64(10), object(1)\n",
      "memory usage: 480.0+ bytes\n"
     ]
    }
   ],
   "source": [
    "df_subscribers.info()"
   ]
  },
  {
   "cell_type": "code",
   "execution_count": 12,
   "metadata": {
    "execution": {
     "iopub.execute_input": "2022-06-21T15:08:23.154479Z",
     "iopub.status.busy": "2022-06-21T15:08:23.153541Z",
     "iopub.status.idle": "2022-06-21T15:08:23.165984Z",
     "shell.execute_reply": "2022-06-21T15:08:23.165308Z"
    },
    "papermill": {
     "duration": 0.041048,
     "end_time": "2022-06-21T15:08:23.166111",
     "exception": false,
     "start_time": "2022-06-21T15:08:23.125063",
     "status": "completed"
    },
    "tags": []
   },
   "outputs": [
    {
     "name": "stdout",
     "output_type": "stream",
     "text": [
      "<class 'pandas.core.frame.DataFrame'>\n",
      "RangeIndex: 4 entries, 0 to 3\n",
      "Data columns (total 11 columns):\n",
      " #   Column     Non-Null Count  Dtype \n",
      "---  ------     --------------  ----- \n",
      " 0   Area       4 non-null      object\n",
      " 1   Q1 - 2018  4 non-null      int64 \n",
      " 2   Q2 - 2018  4 non-null      int64 \n",
      " 3   Q3 - 2018  4 non-null      int64 \n",
      " 4   Q4 - 2018  4 non-null      int64 \n",
      " 5   Q1 - 2019  4 non-null      int64 \n",
      " 6   Q2 - 2019  4 non-null      int64 \n",
      " 7   Q3 - 2019  4 non-null      int64 \n",
      " 8   Q4 - 2019  4 non-null      int64 \n",
      " 9   Q1 - 2020  4 non-null      int64 \n",
      " 10  Q2 - 2020  4 non-null      int64 \n",
      "dtypes: int64(10), object(1)\n",
      "memory usage: 480.0+ bytes\n"
     ]
    }
   ],
   "source": [
    "df_revenue.info()"
   ]
  },
  {
   "cell_type": "code",
   "execution_count": 13,
   "metadata": {
    "execution": {
     "iopub.execute_input": "2022-06-21T15:08:23.222231Z",
     "iopub.status.busy": "2022-06-21T15:08:23.221519Z",
     "iopub.status.idle": "2022-06-21T15:08:23.233075Z",
     "shell.execute_reply": "2022-06-21T15:08:23.233620Z"
    },
    "papermill": {
     "duration": 0.041467,
     "end_time": "2022-06-21T15:08:23.233790",
     "exception": false,
     "start_time": "2022-06-21T15:08:23.192323",
     "status": "completed"
    },
    "tags": []
   },
   "outputs": [
    {
     "name": "stdout",
     "output_type": "stream",
     "text": [
      "<class 'pandas.core.frame.DataFrame'>\n",
      "RangeIndex: 40 entries, 0 to 39\n",
      "Data columns (total 3 columns):\n",
      " #   Column       Non-Null Count  Dtype \n",
      "---  ------       --------------  ----- \n",
      " 0   Area         40 non-null     object\n",
      " 1   Years        40 non-null     object\n",
      " 2   Subscribers  40 non-null     int64 \n",
      "dtypes: int64(1), object(2)\n",
      "memory usage: 1.1+ KB\n"
     ]
    }
   ],
   "source": [
    "df_subscribers_V2.info()"
   ]
  },
  {
   "cell_type": "code",
   "execution_count": 14,
   "metadata": {
    "execution": {
     "iopub.execute_input": "2022-06-21T15:08:23.290259Z",
     "iopub.status.busy": "2022-06-21T15:08:23.289575Z",
     "iopub.status.idle": "2022-06-21T15:08:23.301285Z",
     "shell.execute_reply": "2022-06-21T15:08:23.301821Z"
    },
    "papermill": {
     "duration": 0.041622,
     "end_time": "2022-06-21T15:08:23.301997",
     "exception": false,
     "start_time": "2022-06-21T15:08:23.260375",
     "status": "completed"
    },
    "tags": []
   },
   "outputs": [
    {
     "name": "stdout",
     "output_type": "stream",
     "text": [
      "<class 'pandas.core.frame.DataFrame'>\n",
      "RangeIndex: 40 entries, 0 to 39\n",
      "Data columns (total 3 columns):\n",
      " #   Column   Non-Null Count  Dtype \n",
      "---  ------   --------------  ----- \n",
      " 0   Area     40 non-null     object\n",
      " 1   Years    40 non-null     object\n",
      " 2   Revenue  40 non-null     int64 \n",
      "dtypes: int64(1), object(2)\n",
      "memory usage: 1.1+ KB\n"
     ]
    }
   ],
   "source": [
    "df_revenue_V2.info()"
   ]
  },
  {
   "cell_type": "code",
   "execution_count": 15,
   "metadata": {
    "execution": {
     "iopub.execute_input": "2022-06-21T15:08:23.370329Z",
     "iopub.status.busy": "2022-06-21T15:08:23.369528Z",
     "iopub.status.idle": "2022-06-21T15:08:23.373900Z",
     "shell.execute_reply": "2022-06-21T15:08:23.374734Z"
    },
    "papermill": {
     "duration": 0.045014,
     "end_time": "2022-06-21T15:08:23.374978",
     "exception": false,
     "start_time": "2022-06-21T15:08:23.329964",
     "status": "completed"
    },
    "tags": []
   },
   "outputs": [
    {
     "data": {
      "text/plain": [
       "Index(['Area', 'Q1 - 2018', 'Q2 - 2018', 'Q3 - 2018', 'Q4 - 2018', 'Q1 - 2019',\n",
       "       'Q2 - 2019', 'Q3 - 2019', 'Q4 - 2019', 'Q1 - 2020', 'Q2 - 2020'],\n",
       "      dtype='object')"
      ]
     },
     "execution_count": 15,
     "metadata": {},
     "output_type": "execute_result"
    }
   ],
   "source": [
    "df_subscribers.columns"
   ]
  },
  {
   "cell_type": "code",
   "execution_count": 16,
   "metadata": {
    "execution": {
     "iopub.execute_input": "2022-06-21T15:08:23.466565Z",
     "iopub.status.busy": "2022-06-21T15:08:23.464917Z",
     "iopub.status.idle": "2022-06-21T15:08:23.476725Z",
     "shell.execute_reply": "2022-06-21T15:08:23.477630Z"
    },
    "papermill": {
     "duration": 0.058684,
     "end_time": "2022-06-21T15:08:23.477864",
     "exception": false,
     "start_time": "2022-06-21T15:08:23.419180",
     "status": "completed"
    },
    "tags": []
   },
   "outputs": [
    {
     "data": {
      "text/plain": [
       "Index(['Area', 'Q1 - 2018', 'Q2 - 2018', 'Q3 - 2018', 'Q4 - 2018', 'Q1 - 2019',\n",
       "       'Q2 - 2019', 'Q3 - 2019', 'Q4 - 2019', 'Q1 - 2020', 'Q2 - 2020'],\n",
       "      dtype='object')"
      ]
     },
     "execution_count": 16,
     "metadata": {},
     "output_type": "execute_result"
    }
   ],
   "source": [
    "df_revenue.columns"
   ]
  },
  {
   "cell_type": "code",
   "execution_count": 17,
   "metadata": {
    "execution": {
     "iopub.execute_input": "2022-06-21T15:08:23.583150Z",
     "iopub.status.busy": "2022-06-21T15:08:23.582298Z",
     "iopub.status.idle": "2022-06-21T15:08:23.585720Z",
     "shell.execute_reply": "2022-06-21T15:08:23.583797Z"
    },
    "papermill": {
     "duration": 0.059092,
     "end_time": "2022-06-21T15:08:23.585876",
     "exception": false,
     "start_time": "2022-06-21T15:08:23.526784",
     "status": "completed"
    },
    "tags": []
   },
   "outputs": [
    {
     "data": {
      "text/plain": [
       "Index(['Area', 'Years', 'Subscribers'], dtype='object')"
      ]
     },
     "execution_count": 17,
     "metadata": {},
     "output_type": "execute_result"
    }
   ],
   "source": [
    "df_subscribers_V2.columns"
   ]
  },
  {
   "cell_type": "code",
   "execution_count": 18,
   "metadata": {
    "execution": {
     "iopub.execute_input": "2022-06-21T15:08:23.649904Z",
     "iopub.status.busy": "2022-06-21T15:08:23.648794Z",
     "iopub.status.idle": "2022-06-21T15:08:23.655995Z",
     "shell.execute_reply": "2022-06-21T15:08:23.656702Z"
    },
    "papermill": {
     "duration": 0.041423,
     "end_time": "2022-06-21T15:08:23.656938",
     "exception": false,
     "start_time": "2022-06-21T15:08:23.615515",
     "status": "completed"
    },
    "tags": []
   },
   "outputs": [
    {
     "data": {
      "text/plain": [
       "Index(['Area', 'Years', 'Revenue'], dtype='object')"
      ]
     },
     "execution_count": 18,
     "metadata": {},
     "output_type": "execute_result"
    }
   ],
   "source": [
    "df_revenue_V2.columns"
   ]
  },
  {
   "cell_type": "code",
   "execution_count": 19,
   "metadata": {
    "execution": {
     "iopub.execute_input": "2022-06-21T15:08:23.737281Z",
     "iopub.status.busy": "2022-06-21T15:08:23.735935Z",
     "iopub.status.idle": "2022-06-21T15:08:23.739880Z",
     "shell.execute_reply": "2022-06-21T15:08:23.740490Z"
    },
    "papermill": {
     "duration": 0.046377,
     "end_time": "2022-06-21T15:08:23.740669",
     "exception": false,
     "start_time": "2022-06-21T15:08:23.694292",
     "status": "completed"
    },
    "tags": []
   },
   "outputs": [
    {
     "name": "stdout",
     "output_type": "stream",
     "text": [
      "The subscribers data size: (4, 11)\n",
      "The revenue data size: (4, 11)\n",
      "The subscribers data size (V2): (40, 3)\n",
      "The revenue data size (V2): (40, 3)\n"
     ]
    }
   ],
   "source": [
    "print(f\"The subscribers data size: {df_subscribers.shape}\")\n",
    "print(f\"The revenue data size: {df_revenue.shape}\")\n",
    "print(f\"The subscribers data size (V2): {df_subscribers_V2.shape}\")\n",
    "print(f\"The revenue data size (V2): {df_revenue_V2.shape}\")"
   ]
  },
  {
   "cell_type": "markdown",
   "metadata": {
    "papermill": {
     "duration": 0.029706,
     "end_time": "2022-06-21T15:08:23.803522",
     "exception": false,
     "start_time": "2022-06-21T15:08:23.773816",
     "status": "completed"
    },
    "tags": []
   },
   "source": [
    "## Netflix's subscriber from 2018 to Q2 2020 by region."
   ]
  },
  {
   "cell_type": "code",
   "execution_count": 20,
   "metadata": {
    "execution": {
     "iopub.execute_input": "2022-06-21T15:08:23.874634Z",
     "iopub.status.busy": "2022-06-21T15:08:23.873863Z",
     "iopub.status.idle": "2022-06-21T15:08:24.306808Z",
     "shell.execute_reply": "2022-06-21T15:08:24.306212Z"
    },
    "papermill": {
     "duration": 0.473092,
     "end_time": "2022-06-21T15:08:24.306955",
     "exception": false,
     "start_time": "2022-06-21T15:08:23.833863",
     "status": "completed"
    },
    "tags": []
   },
   "outputs": [
    {
     "data": {
      "text/plain": [
       "Text(0, 0.5, \"Netflix's subscribers (M)\")"
      ]
     },
     "execution_count": 20,
     "metadata": {},
     "output_type": "execute_result"
    },
    {
     "data": {
      "image/png": "[encoded data removed]",
      "text/plain": [
       "<Figure size 1296x576 with 1 Axes>"
      ]
     },
     "metadata": {
      "needs_background": "light"
     },
     "output_type": "display_data"
    }
   ],
   "source": [
    "df_subscribers_V2.groupby([\"Area\", \"Years\"])[\"Subscribers\"].sum().unstack(\"Years\").plot(figsize=(18, 8), kind=\"bar\")\n",
    "plt.title(\"Netflix's subscribers (M) growth from 2018 to Q2_2020 by region\")\n",
    "plt.xlabel(\"Region\")\n",
    "plt.ylabel(\"Netflix's subscribers (M)\")"
   ]
  },
  {
   "cell_type": "code",
   "execution_count": 21,
   "metadata": {
    "execution": {
     "iopub.execute_input": "2022-06-21T15:08:24.406270Z",
     "iopub.status.busy": "2022-06-21T15:08:24.400986Z",
     "iopub.status.idle": "2022-06-21T15:08:24.472269Z",
     "shell.execute_reply": "2022-06-21T15:08:24.471529Z"
    },
    "papermill": {
     "duration": 0.133752,
     "end_time": "2022-06-21T15:08:24.472432",
     "exception": false,
     "start_time": "2022-06-21T15:08:24.338680",
     "status": "completed"
    },
    "tags": []
   },
   "outputs": [],
   "source": [
    "years = [\"Q1 - 2018\", \"Q2 - 2018\", \"Q3 - 2018\", \"Q4 - 2018\", \"Q1 - 2019\", \"Q2 - 2019\", \"Q3 - 2019\", \"Q4 - 2019\", \"Q1 - 2020\", \"Q2 - 2020\"]\n",
    "\n",
    "data = {\"Period\" : years,\n",
    "        \"United States and Canada\": [60909000, 61870000, 63010000, 64757000, 66633000, 66501000, 67114000, 67662000, 69969000,                 72904000],\n",
    "        \"Europe, Middle East, and Africa\": [29339000, 31317000, 33836000, 37818000, 42542000, 44229000, 47355000, 51778000, 58734000,          61483000],\n",
    "        \"Latin America\": [21260000, 22795000, 24115000, 26077000, 27547000, 27890000, 29380000, 31417000, 34318000, 36068000],\n",
    "        \"Asia-Pacific\": [7394000, 8372000, 9461000, 10607000, 12141000, 12942000, 14485000, 16233000, 19835000, 22492000]\n",
    "        }\n",
    "\n",
    "source = ColumnDataSource(data=data)\n",
    "\n",
    "p = figure(x_range=data[\"Period\"], y_range=(0, 100000000), plot_height=500, plot_width=1200, title=\"Netflix's subscriber from Q1-2018 to Q2-2020 by region\", toolbar_location=None, tools=\"\")\n",
    "\n",
    "p.vbar(x=dodge(\"Period\", -0.30, range=p.x_range), top=\"United States and Canada\", width=0.15, color=\"#8B0000\", source=source, legend_label=\"United States and Canada\")\n",
    "\n",
    "p.vbar(x=dodge(\"Period\", -0.15,  range=p.x_range), top=\"Europe, Middle East, and Africa\", width=0.15, color=\"#B22222\", source=source, legend_label=\"Europe, Middle East, and Africa\")\n",
    "\n",
    "p.vbar(x=dodge(\"Period\", -0.00, range=p.x_range), top=\"Latin America\", width=0.15, color=\"#CD5C5C\", source=source, legend_label=\"Latin America\")\n",
    "\n",
    "p.vbar(x=dodge(\"Period\", 0.15, range=p.x_range), top=\"Asia-Pacific\", width=0.15, color=\"#F08080\", source=source, legend_label=\"Asia-Pacific\")\n",
    "\n",
    "p.x_range.range_padding = 0.1\n",
    "p.xgrid.grid_line_color = None\n",
    "p.legend.location = \"top_left\"\n",
    "p.legend.orientation = \"horizontal\"\n",
    "p.title.text_font_size = \"16pt\"\n",
    "\n",
    "show(p)"
   ]
  },
  {
   "cell_type": "markdown",
   "metadata": {
    "papermill": {
     "duration": 0.031627,
     "end_time": "2022-06-21T15:08:24.536655",
     "exception": false,
     "start_time": "2022-06-21T15:08:24.505028",
     "status": "completed"
    },
    "tags": []
   },
   "source": [
    "![](https://pariaagharabi.github.io/images/chart-netflix-subscribers.png)"
   ]
  },
  {
   "cell_type": "markdown",
   "metadata": {
    "papermill": {
     "duration": 0.030952,
     "end_time": "2022-06-21T15:08:24.599133",
     "exception": false,
     "start_time": "2022-06-21T15:08:24.568181",
     "status": "completed"
    },
    "tags": []
   },
   "source": [
    "## Netflix's revenue($) growth from 2018 to Q2_2020 by region  "
   ]
  },
  {
   "cell_type": "code",
   "execution_count": 22,
   "metadata": {
    "execution": {
     "iopub.execute_input": "2022-06-21T15:08:24.666003Z",
     "iopub.status.busy": "2022-06-21T15:08:24.665207Z",
     "iopub.status.idle": "2022-06-21T15:08:25.003864Z",
     "shell.execute_reply": "2022-06-21T15:08:25.004512Z"
    },
    "papermill": {
     "duration": 0.374168,
     "end_time": "2022-06-21T15:08:25.004677",
     "exception": false,
     "start_time": "2022-06-21T15:08:24.630509",
     "status": "completed"
    },
    "tags": []
   },
   "outputs": [
    {
     "data": {
      "text/plain": [
       "Text(0, 0.5, \"Netflix's revenue ($)\")"
      ]
     },
     "execution_count": 22,
     "metadata": {},
     "output_type": "execute_result"
    },
    {
     "data": {
      "image/png": "[encoded data removed]",
      "text/plain": [
       "<Figure size 1296x576 with 1 Axes>"
      ]
     },
     "metadata": {
      "needs_background": "light"
     },
     "output_type": "display_data"
    }
   ],
   "source": [
    "df_revenue_V2.groupby([\"Area\", \"Years\"])[\"Revenue\"].sum().unstack(\"Years\").plot(figsize=(18, 8), kind=\"bar\")\n",
    "plt.title(\"Netflix's revenue ($) growth from 2018 to Q2_2020 by region\")\n",
    "plt.xlabel(\"Region\")\n",
    "plt.ylabel(\"Netflix's revenue ($)\")"
   ]
  },
  {
   "cell_type": "code",
   "execution_count": 23,
   "metadata": {
    "execution": {
     "iopub.execute_input": "2022-06-21T15:08:25.075427Z",
     "iopub.status.busy": "2022-06-21T15:08:25.074669Z",
     "iopub.status.idle": "2022-06-21T15:08:25.163006Z",
     "shell.execute_reply": "2022-06-21T15:08:25.163707Z"
    },
    "papermill": {
     "duration": 0.12585,
     "end_time": "2022-06-21T15:08:25.163902",
     "exception": false,
     "start_time": "2022-06-21T15:08:25.038052",
     "status": "completed"
    },
    "tags": []
   },
   "outputs": [],
   "source": [
    "years = [\"Q1 - 2018\", \"Q2 - 2018\", \"Q3 - 2018\", \"Q4 - 2018\", \"Q1 - 2019\", \"Q2 - 2019\", \"Q3 - 2019\", \"Q4 - 2019\", \"Q1 - 2020\", \"Q2 - 2020\"]\n",
    "\n",
    "data = {\"Period\" : years,\n",
    "        \"United States and Canada\": [1976157000, 2049546000, 2094850000, 2160979000, 2256851000, 2501199000, 2621250000, 2671908000,           2702776000, 2839670000],\n",
    "        \"Europe, Middle East, and Africa\": [886649000, 975497000, 1004749000, 1096812000, 1233379000, 1319087000, 1428040000,                  1562561000, 1723474000, 1892537000],\n",
    "        \"Latin America\": [540182000, 568071000, 562307000, 567137000, 630472000, 677136000, 741434000, 746392000, 793453000,                   785368000],\n",
    "        \"Asia-Pacific\": [199117000, 221252000, 248691000, 276756000, 319602000, 349494000, 382304000, 418121000, 483660000, 569140000]\n",
    "        }\n",
    "\n",
    "source = ColumnDataSource(data=data)\n",
    "\n",
    "p = figure(x_range=data[\"Period\"], y_range=(0, 3000000000), plot_height=500, plot_width=1200, title=\"Netflix's revenue from Q1-2018 to Q2-2020 by region\", toolbar_location=None, tools=\"\")\n",
    "\n",
    "p.vbar(x=dodge(\"Period\", -0.30, range=p.x_range), top=\"United States and Canada\", width=0.15, color=\"#8B0000\", source=source, legend_label=\"United States and Canada\")\n",
    "\n",
    "p.vbar(x=dodge(\"Period\", -0.15,  range=p.x_range), top=\"Europe, Middle East, and Africa\", width=0.15, color=\"#B22222\", source=source, legend_label=\"Europe, Middle East, and Africa\")\n",
    "\n",
    "p.vbar(x=dodge(\"Period\", -0.00, range=p.x_range), top=\"Latin America\", width=0.15, color=\"#CD5C5C\", source=source, legend_label=\"Latin America\")\n",
    "\n",
    "p.vbar(x=dodge(\"Period\", 0.15, range=p.x_range), top=\"Asia-Pacific\", width=0.15, color=\"#F08080\", source=source, legend_label=\"Asia-Pacific\")\n",
    "\n",
    "p.x_range.range_padding = 0.1\n",
    "p.xgrid.grid_line_color = None\n",
    "p.legend.location = \"top_left\"\n",
    "p.legend.orientation = \"horizontal\"\n",
    "p.title.text_font_size = \"16pt\"\n",
    "\n",
    "show(p)"
   ]
  },
  {
   "cell_type": "markdown",
   "metadata": {
    "papermill": {
     "duration": 0.033737,
     "end_time": "2022-06-21T15:08:25.231796",
     "exception": false,
     "start_time": "2022-06-21T15:08:25.198059",
     "status": "completed"
    },
    "tags": []
   },
   "source": [
    "![](https://pariaagharabi.github.io/images/chart-netflix-income.png)"
   ]
  },
  {
   "cell_type": "markdown",
   "metadata": {
    "papermill": {
     "duration": 0.033924,
     "end_time": "2022-06-21T15:08:25.299924",
     "exception": false,
     "start_time": "2022-06-21T15:08:25.266000",
     "status": "completed"
    },
    "tags": []
   },
   "source": [
    "Thank you for taking the time to read through my kernel. For the moment, let me know if you found this notebook useful or you just liked it: I would really appreciate it!"
   ]
  },
  {
   "cell_type": "code",
   "execution_count": null,
   "metadata": {
    "papermill": {
     "duration": 0.033531,
     "end_time": "2022-06-21T15:08:25.367187",
     "exception": false,
     "start_time": "2022-06-21T15:08:25.333656",
     "status": "completed"
    },
    "tags": []
   },
   "outputs": [],
   "source": []
  }
 ],
 "metadata": {
  "kernelspec": {
   "display_name": "Python 3",
   "language": "python",
   "name": "python3"
  },
  "language_info": {
   "codemirror_mode": {
    "name": "ipython",
    "version": 3
   },
   "file_extension": ".py",
   "mimetype": "text/x-python",
   "name": "python",
   "nbconvert_exporter": "python",
   "pygments_lexer": "ipython3",
   "version": "3.7.6"
  },
  "papermill": {
   "duration": 10.999766,
   "end_time": "2022-06-21T15:08:26.456810",
   "environment_variables": {},
   "exception": null,
   "input_path": "__notebook__.ipynb",
   "output_path": "__notebook__.ipynb",
   "parameters": {},
   "start_time": "2022-06-21T15:08:15.457044",
   "version": "2.1.0"
  }
 },
 "nbformat": 4,
 "nbformat_minor": 4
}
